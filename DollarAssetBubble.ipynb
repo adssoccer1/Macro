{
 "cells": [
  {
   "cell_type": "markdown",
   "id": "c78ac6ff-45e2-4e4e-9005-279eac5f47bc",
   "metadata": {},
   "source": [
    "\n",
    "[https://github.com/adssoccer1/Macro/tree/main](https://github.com/adssoccer1/Macro/tree/main)"
   ]
  }
 ],
 "metadata": {
  "kernelspec": {
   "display_name": "Python 3 (ipykernel)",
   "language": "python",
   "name": "python3"
  },
  "language_info": {
   "codemirror_mode": {
    "name": "ipython",
    "version": 3
   },
   "file_extension": ".py",
   "mimetype": "text/x-python",
   "name": "python",
   "nbconvert_exporter": "python",
   "pygments_lexer": "ipython3",
   "version": "3.9.6"
  }
 },
 "nbformat": 4,
 "nbformat_minor": 5
}
