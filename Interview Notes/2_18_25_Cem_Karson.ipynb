{
 "cells": [
  {
   "cell_type": "markdown",
   "id": "f0e72cd8-e7a5-4898-9f60-cd31f4520951",
   "metadata": {},
   "source": [
    "Cem Karson - Real Vision - 2/18/25\n",
    "\n",
    "\n",
    "How important markets themselves are (reflexively) to liquidity. 120 trillion of globdal equities, 80 trillion of other stuff tied to equities. So if global equities go up by 10% there is 20 trillion dollars of new liquidity. This means there is more collateral in the system. Most money is debt leveraged off of collateral. If the market is up 50% in two years then there was roughly 100 trillion two years ago! \n",
    "\n",
    "The liquidity that the Fed produces is incremental (still important) than the market itself. \n",
    "\n",
    "Many people think the economy will determine whether stocks will do well, but actually stocks largely determine if the economy does well. If stocks go up, this itself produces a ton of liquidity in the system, which then helps the economy. This is basically the wealth effect, but Cem says this reflexivity is still underrated. \n",
    "\n",
    "Cem now sees a large amount of debt that was issued when interest rates were lower is now going to have to roll over at these higher rates we are at today. There is roughly 15-25 trillion that needs to rollover in the next year... Idk how he got this. \n",
    "\n",
    "If we have this large rollover and increasing bankruptcies, why are corporate credit spreads at basically zero? Because markets have gone up so much and created so much more collateral! Lower credit spreads are just a result of more money flowing into corporate bonds. There is more money to flow into corporate bonds because of the strong performance of financial assets. \n"
   ]
  }
 ],
 "metadata": {
  "kernelspec": {
   "display_name": "Python 3 (ipykernel)",
   "language": "python",
   "name": "python3"
  },
  "language_info": {
   "codemirror_mode": {
    "name": "ipython",
    "version": 3
   },
   "file_extension": ".py",
   "mimetype": "text/x-python",
   "name": "python",
   "nbconvert_exporter": "python",
   "pygments_lexer": "ipython3",
   "version": "3.9.6"
  }
 },
 "nbformat": 4,
 "nbformat_minor": 5
}
