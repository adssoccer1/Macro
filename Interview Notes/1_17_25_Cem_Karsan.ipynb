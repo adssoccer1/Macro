{
 "cells": [
  {
   "cell_type": "markdown",
   "id": "f2fd5a29-f211-40d9-89b7-2727d20f41b7",
   "metadata": {},
   "source": [
    "Market was topping in the short term in december. Then election gap fill would be bottom. Now we rally into Fed opex. \n",
    "\n",
    "We are at the one nav standard deviation of the 20 day. We need to hit 2-3 standard deviations soon and hit new highs soon, if the rally is to continue. Monday needs to be strong. \n",
    "\n",
    "Cem still sees this as a counter trend rally and that in the abscense of a liquidity bazooka, then this market is likely to fade to 550->520 into March opex. Then that low will lead to a rally back to the highs again. \n",
    "\n",
    "Sees two potential paths. One where there is a liquidity injection from somewhere which leads to a blow off top some time in 2H25. Second path is a more choppy 1H25 with a more gradual decline in 2H25 and into 2026. Asset prices simply cannot continue up because that will cause inflation and a rising 10yr. \n",
    "- if there is some kind of \"YCC\" to artificially lower long end yeilds, this will cause inflation leading to blow off top.\n",
    "   "
   ]
  }
 ],
 "metadata": {
  "kernelspec": {
   "display_name": "Python 3 (ipykernel)",
   "language": "python",
   "name": "python3"
  },
  "language_info": {
   "codemirror_mode": {
    "name": "ipython",
    "version": 3
   },
   "file_extension": ".py",
   "mimetype": "text/x-python",
   "name": "python",
   "nbconvert_exporter": "python",
   "pygments_lexer": "ipython3",
   "version": "3.9.6"
  }
 },
 "nbformat": 4,
 "nbformat_minor": 5
}
