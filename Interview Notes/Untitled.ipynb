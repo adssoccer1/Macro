{
 "cells": [
  {
   "cell_type": "markdown",
   "id": "9772bd04-f6fe-4659-862b-d8d9ab5444b4",
   "metadata": {},
   "source": [
    "Andy Constan - 2/26/25 [The Fed's Balance Sheet Plans Are Kryptonite For Risk Assets | Andy Constan\n",
    "](https://www.youtube.com/watch?v=t9YayzOGfvU)\n",
    "\n",
    "What is Andy's QT 2.0 idea? The Fed wants to have the weighted average maturity (wam) in the SOMA portfolio (where the Fed holds it QE/QT assets), match the WAM of treasury debt outstanding. \n",
    "\n",
    "In QE the Fed bought 3 trillion dollars of treasuries and MBS, which creates an easing in financial condiations because it removes risk and allows investors to place their money further out in the risk curve. In QT its the oppositve because they  push bonds back into the econommy and crowds out other investment because invetors have to save more and buy more bonds. \n",
    "\n",
    "In QT there is of course a large difference between balance sheet run off and outright balance sheet sales.\n",
    "\n",
    "When the Treaury begain issuing a bunch of bills, they drained the RRP and money markets bought a bunch of bills, instead of going into the RRP, and so really nobody experienced the need to pick up the bills, so really the effect of this \"QT 1.0\" were minimal if net zero. \n",
    "\n",
    "The Fed has a capped amount of runnoff and so when more bonds runoff the balance sheet that this cap, they have to reinvest it and they have been reinvesting it through coupons. So the wam of the soma has been increasing. And now there is a mismatch between then WAM of the SOMA 9 years and the outstanding debt 5 years. So to bring this WAM back in, the treasury is going to buy more bills and less duration. \n",
    "\n",
    "20 billion 10 year equivalent WAM that will now have to be absorbed by the market per month if the SOMA makes these changes. \n",
    "\n",
    "Bank Reserves, the Currency, the RRP are all liabilities on the Feds balance sheet and offer interests to the owners of these things. So the Fed loses money on these things and has to pay the holders interest\n",
    "\n",
    "Their assets are mortgages and 30 years bonds that create tremendous P and L volaitliy. \n",
    "\n",
    "So the first step in QT 2.0 is to stop reinvesting the SOMA into duration and more bills. Every auction the Fed\n",
    "\n",
    "The basic idea is to make sure the Fed has a flexible balance sheet before a crisis occurs. \n",
    "\n",
    "More duration needs to hit the market, no matter which way you cut it. So who is the new marginal buyer? \n",
    "\n",
    "There is a difference between who comes up with the cash, and who takes on the risk. If there were a lot of outright sales, this would drain central bank reserves. Which is reserves + RRP. If they were to sell bonds outright, they would simultaneuously buy bills. \n",
    "\n",
    "The RRP is very similar to bank reserves. Mostly money market funds invest in it. It is very similar to bank reserves because MMFs just deposit their money here. The difference is MMFs dont lend. They do a little bit in repo markets, to provide cash to banks with treasuries, but they dont makes loan like a commercial bank.\n",
    "\n",
    "Historically withdrawing reserves would have been restrictive because banks used to depend on a level of reserves in order to make loans into our fractional reserve banking system. And if you withdrawl reserves, banks will not have a minimum level of required reserves to makes loans. But this is not really how it works today. But reserves are still important for transaction stability. \n",
    "\n",
    "QT has only really drained the RRP, it has not removed bank reserves. So now that the RRP is drained people are less certain about the ampleness of reserves. \n",
    "\n",
    "In a debt ceiling the Gov cannot issue new debt but they still spend the money in the TGA which means bank reserves will rise because they are putting money into the system without taking it out, at least until they refill the TGA.  But the moment the debt ceiling is resolved, the treasury will rapidly issue bills which will pull reserves out of the system. This could cause volaitlity and stress on the amount of reserves. \n",
    "\n",
    "The only thing that can drain reserves is 1) the TGA being built (because it replaces reserves with treasuries on bank balance sheets) (but also when the TGA is spent, it puts reserves back into the system) 2) The reduction of the RRP (because it means MMFs are taking their assets off of the fed's balance sheet at are holding treasuries in private markets) 3) The Fed sells assets (because it means the private market is giving the Fed reserves for those assest (same as building up the TGA)). \n",
    "\n",
    "So Andy's idea is that we went through the first phase of QT 1.0 that was balance sheet roll off, but it was offset by the RRP drain. And now we are going to go through QT 2.0 which is the fed continuing balance sheet roll off and also there is no more RRP to drain and also moving the WAM of the SOMA portfolio to more bills than notes which increases supply of notes. \n",
    "\n",
    "So who is going to buy it? People buy treasuries because they are good protection/diversification for long equity portfolios. There is also demand . Banks and hedge funds like carry. You will find that when the curve is postively sloped, there will be a lot of inventory in banks and hedge funds because they level up their treasuries to receive the carry from the interest rate diffs. The curve is currently positvely sloped, but not nearly as postively sloped as it usually is, so purchasing for carry is less of a demand lever right now. \n",
    "\n",
    "But there has been continuous demand from real money pension funds and insurance funds. Real money unlevered pension and insurance funds. Banks and hedge funds dont want them yet beecause the curve is not steep enough. Asia does not want them. Europe and the middle east does not want them. \n",
    "\n",
    "Pension funds and insurance companies have demand seen in future longs and receivers (which is an interest rate swap) which shows synthetically on a levered basis own bonds. The demand from these institutions comes from incomes so if the economy faulters and incomes decline, their funds for treasury demand will decline. These players pay an exteremly high price for leverage to lock in duration. \n",
    "\n",
    "Andy is of course not certain that QT2.0 is coming at all.\n",
    "\n",
    "\n",
    "Andy has left higher for longer island which he was on because he was bullish the US economy. All the spending, income, wage growth, and even a productivity miracle were the reasons he was on higher for longer island. Recently, in september, we saw rapid term premium expansion, and when it gets high very quickly we see an economic tightening. The Fed is also 100% on pause. Combined with the Fed tightening and the persistently high term premium, Andy thinks this will cause a small slow down. Then there is also the Trump admin on immigration slowing labor growth which is anti growth and inflationary, then the tariffs are antigrowth because the create frictions and reduce margins, Deficit/expenditure cuts are antigrowth. The tax cuts are not a new growth impulse, its a continuation of the current policy. Even DOGE cutting fraud is anti growth, because even fraud gets invested. Only deregulation is pro growth. \n",
    "\n"
   ]
  }
 ],
 "metadata": {
  "kernelspec": {
   "display_name": "Python 3 (ipykernel)",
   "language": "python",
   "name": "python3"
  },
  "language_info": {
   "codemirror_mode": {
    "name": "ipython",
    "version": 3
   },
   "file_extension": ".py",
   "mimetype": "text/x-python",
   "name": "python",
   "nbconvert_exporter": "python",
   "pygments_lexer": "ipython3",
   "version": "3.9.6"
  }
 },
 "nbformat": 4,
 "nbformat_minor": 5
}
