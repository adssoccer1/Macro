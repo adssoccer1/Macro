{
 "cells": [
  {
   "cell_type": "markdown",
   "id": "8d8089b1-505e-41f4-8d16-c467eb3a0d5f",
   "metadata": {},
   "source": [
    "2-21-25 [Volatility Hedge Fund Manager Unpacks Derivatives Misconceptions | Benn Eifert](https://www.youtube.com/watch?v=gxw3xHoKcrE)\n",
    "\n",
    "\n",
    "When you think about volatility vanilla options are the first building block to getting volatility exposure. This is through the IV channel. Options create vol exposure and this creates the foundations for vol trading. \n",
    "\n",
    "Then there are OTC products like a vairance swap or volatility swap that a bank will sell you and then hedge that with options. \n",
    "\n",
    "A volatility swap 3 months out on the S&P 500 at 15 will make 1 point if realized vol over that time is 16. This is easy to understand. Variance swaps are similar except they are exposed to vol squared. \n",
    "\n",
    "So what is the goal of most Vol funds? They tend to make money in bad market environments, but they are not a tail hedge. \n",
    "\n",
    "Can you go long vol without a performance drag? Like an ongoing tail hedge with a low cost of carry? Benn's answer: no. \n",
    "\n",
    "Put spreads and call spreads are a good way to neuterazlie high levels of IV\n",
    "\n",
    "Markets are obviously not normally distributed. Markets price in very specific ways. \n",
    "\n",
    "The overwhelming flow in one month between 25 delta call and put wing is all option selling. Because there is retail and pensions selling cover calls and cash secured puts for income generation purposes. There are few natural buyers of this flow. The main buyers are dealers and market makers who are buying this flow because its so cheap. Because these are short dated options, they have a lot of gamma. So they people who own these options are effectively trading against the market and therefoer have to hedge their exposures. If you own an options and short some stock to hedge it delta neutral. If the market goes up, that call options gets longer delta because it is postively convex, recall all options are positively convex. So if you have these large flows of selling gamma (retail + pensions) that are not hedging, but the flows that are buying these options are buying gamma and are hedging. This creates a market pinning effect, because if the market goes down one percent all the big market makers are buying stock to rehedge and if the market goes up one percent, all the market makers are selling stock to re hedge. \n",
    "\n",
    "A lot of people now try to measure gamma, which Benn thinks it sometimes useful, but sometimes not useful. \n",
    "\n",
    "But basically this is why we can see markets trend down slowly in a seemingly range bound manner, and then once price has drifted away from where most of this options selling occured, markets can move quite violently. \n",
    "\n",
    "If markets drift outside the range and moves further away from the stikes sold last month, because when you think about how much gamma/convexity and options has, it has a lot near the stike, but when you move away from that stike, the gamma falls very quickly. The options lose convexity very fast especially because its a short term option. This is why a lot of big sell offs weve seen in the last 10-15 years start out with a choppy downtrend, and then once the gamma falls, the sells off can sell off hard because the delta neutral hedgers dont need to sell nearly as much. \n"
   ]
  }
 ],
 "metadata": {
  "kernelspec": {
   "display_name": "Python 3 (ipykernel)",
   "language": "python",
   "name": "python3"
  },
  "language_info": {
   "codemirror_mode": {
    "name": "ipython",
    "version": 3
   },
   "file_extension": ".py",
   "mimetype": "text/x-python",
   "name": "python",
   "nbconvert_exporter": "python",
   "pygments_lexer": "ipython3",
   "version": "3.9.6"
  }
 },
 "nbformat": 4,
 "nbformat_minor": 5
}
