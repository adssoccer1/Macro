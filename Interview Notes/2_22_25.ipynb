{
 "cells": [
  {
   "cell_type": "markdown",
   "id": "11f8bcbc-f730-40d4-b655-b3a725a7af08",
   "metadata": {},
   "source": [
    "2_21_25 Darius Dale  [MacroVoices #468 Darius Dale: Changing World Order\n",
    "](https://www.youtube.com/watch?v=BrXdIMfUgqU)\n",
    "\n",
    "Are we going to have to change how we understand who holds the Debt? We follow the TIC system now, but what if countries have to hold our non marketable long term bonds in exchange for military protection? \n",
    "\n",
    "DD thinks inflation will remain sticky. Reasons are:\n",
    "1) Inflation is the most lagging indicator of the business cycle. Inflaiton doesnt break down until we are well into a recession and there is no recession here ( i dont think this is a great argument...)\n",
    "2) The fed has done a poor job of reining in liquidity since the SVB crisis. See Fed balance sheet and base money supply, both have increased.\n",
    "3) Domestic credit growth is now trending higher and global credit growth.\n",
    "4) What happends when we cut off the low cost labour supply from immigration? Unless we have a big boom in productivity, the lack of labour supply will cause wages to stablize above trend.\n",
    "5) \n",
    "42 Macro does not see recession risk but does see upside inflation risk.\n",
    "\n",
    "Sees 500 Billion out of the 800 billion in the TGA  getting spent down in next 3-5 months. It depends on how long it take them to get the debt limit punted . If the go to the one bill solution vs the two bill solution it means they will do more spenddown, not less. \n",
    "\n",
    "Talks about SSS theme, DOGE, and other useless stuff."
   ]
  }
 ],
 "metadata": {
  "kernelspec": {
   "display_name": "Python 3 (ipykernel)",
   "language": "python",
   "name": "python3"
  },
  "language_info": {
   "codemirror_mode": {
    "name": "ipython",
    "version": 3
   },
   "file_extension": ".py",
   "mimetype": "text/x-python",
   "name": "python",
   "nbconvert_exporter": "python",
   "pygments_lexer": "ipython3",
   "version": "3.9.6"
  }
 },
 "nbformat": 4,
 "nbformat_minor": 5
}
