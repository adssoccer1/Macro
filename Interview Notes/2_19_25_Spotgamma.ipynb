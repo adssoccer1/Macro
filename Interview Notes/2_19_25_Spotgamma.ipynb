{
 "cells": [
  {
   "cell_type": "markdown",
   "id": "2a12b6c5-f0ab-4575-8b0f-82d9b2ad8190",
   "metadata": {},
   "source": [
    "SpotGamma - 2/19/24 [Danger in Market Calm? What the Options Market Tells Us About What Comes Next\n",
    "](https://www.youtube.com/watch?v=g3KxXThQGS8)\n",
    "\n",
    "Options volumes continue to grow and as those volumes grow, the hedging flows associated with those options also grows.\n",
    "\n",
    "The transition mechanism between options flows and the underlying occurs when the market maker has to take the otherside of the option position and then delta hedge. \n",
    "\n",
    "As time is passing (vanna) and as implied volatility is shifting (charm) market makers have to shift their hedges. And when option expiration shifts, they may not have to hedge those positions at all anymore, so theyll sell or buy back their delta hedges. Thats why after options expiration we see positioning shifts. \n",
    "\n",
    "Trader initiates, dealer initiates, dealer hedges, gamma hedge\n",
    "buy call, short call, buy shares, trade with market\n",
    "short call, long call, sell shares, trade against market\n",
    "buy put, short put, sell shares, trade with market\n",
    "short put, long put, buy shares, trade against market\n",
    "\n",
    "The opex cycle can drive tops and bottoms as hedging builds up then unwinds quite dramatically. \n",
    "\n",
    "You can look at notional values of calls and put open interest at different expiration dates. Notice how Feb 21 is relatively small compared to march 21.\n",
    "\n",
    "We can also identify negative and positive dealer gamma territories on indexes like the SPX. Just look at SPX absolute Gamma at each price? In negative gamma territory < 6000 dealers would start selling, exacerbating any selling. But in positive gamma, dealers buy dips and sell rips, which pins the market in a zone. \n",
    "\n",
    "With put skew you measure the implied volatility of a far out of the money put option vs an at the money put option. So if the far otm option has a 50% IV and the atm option has a 20% IV the skew is 30. So this measures how worried people are. If people have demand for OTM puts you would see people buy far otm puts and the skew would jump. \n",
    "\n",
    "You can also measure call skew in the opposite manner. Tesla had increasing call skew moving into and after the election which was followed by a hige pump. "
   ]
  }
 ],
 "metadata": {
  "kernelspec": {
   "display_name": "Python 3 (ipykernel)",
   "language": "python",
   "name": "python3"
  },
  "language_info": {
   "codemirror_mode": {
    "name": "ipython",
    "version": 3
   },
   "file_extension": ".py",
   "mimetype": "text/x-python",
   "name": "python",
   "nbconvert_exporter": "python",
   "pygments_lexer": "ipython3",
   "version": "3.9.6"
  }
 },
 "nbformat": 4,
 "nbformat_minor": 5
}
