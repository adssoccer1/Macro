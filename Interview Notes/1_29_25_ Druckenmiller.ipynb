{
 "cells": [
  {
   "cell_type": "markdown",
   "id": "f7ea31f3-7033-4c78-bc29-dd85c79586bb",
   "metadata": {},
   "source": [
    "(Stanley Druckenmiller Interview - The Economic Club of New York (2019))[https://www.youtube.com/watch?v=r7kMSqgruOY]\n",
    "\n",
    "Every boom and bust is preceeded by an asset bubble caused by easy policy. \n",
    "\n",
    "2010 - 2019\n",
    "Corprate debt has grown from 6 trillion to 10 trillion \n",
    "Corprate prodits grew from 1.7 trillion to 2.2 trillion \n",
    "The interest cost on this debt only went up from 475 to 565 billion or 23%. \n",
    "Corprate profits have not been productive. \n",
    "\n",
    "So this is horrendus producitivity of capital here. You increase your debt by 60% \n",
    "\n",
    "5.7 trillion in buy backs vs 2.2 trillion of capital expenditures. \n",
    "\n",
    "**What percent of corporate expentirutres are buybacks?**\n",
    "\n",
    "GDP and Inflation do not capture productivity growth or tech advancements in their data well. Are billions of google searches or chatgpt queries that get better and better captured in that data? Are photos whose quality and number increase at zero marginal cost captured? \n",
    "\n",
    "The micro drives that macro\n",
    "\n",
    "Macro statistics are not great at prediciting the economy. They are great at telling you where you are and where youve been, but not at predicting. \n",
    "\n",
    "The **inside** of the stock market is a much better predicter. Looking at cyclical companies in the stock market. Like trucking, retail (xrt), housing, russel 2000, s&p metals, (what other sectors and are the leading the cycle or lagging the cycle?). Talk to the purchasing managers of these companies below the ceo. Some companies lead and others lag the cycal. \n",
    "\n",
    "Never seen a recession before corporate profits peaked. so this is another indicator he uses. \n",
    "\n"
   ]
  }
 ],
 "metadata": {
  "kernelspec": {
   "display_name": "Python 3 (ipykernel)",
   "language": "python",
   "name": "python3"
  },
  "language_info": {
   "codemirror_mode": {
    "name": "ipython",
    "version": 3
   },
   "file_extension": ".py",
   "mimetype": "text/x-python",
   "name": "python",
   "nbconvert_exporter": "python",
   "pygments_lexer": "ipython3",
   "version": "3.9.6"
  }
 },
 "nbformat": 4,
 "nbformat_minor": 5
}
