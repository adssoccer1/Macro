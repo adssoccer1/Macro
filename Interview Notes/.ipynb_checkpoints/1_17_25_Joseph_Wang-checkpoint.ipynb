{
 "cells": [
  {
   "cell_type": "markdown",
   "id": "fea18764-6090-485e-be7f-d9e68baaf07a",
   "metadata": {},
   "source": [
    "\n",
    "\n",
    "\n",
    "Close to a turning point in rates. The 10yr yeild at 5% is very clearly downward pressure on the economy:\n",
    "- Homebuilder stocks\n",
    "- Dragging up the long end of other conutries\n",
    "Likely Topping because\n",
    "- Higher rates are self correcting because they tighten conditions, stocks sell off, and people buy back into saftey, lowering rates.\n",
    "- Trump admin has lots of tools to lower the long end like changing assets caps or leverage rations that can generate hundreds of billions of dollars of demand for treasuries. \n",
    "\n",
    "If yields top here the dollar (dxy) should cool, due to currency differentials, but not long term bullish Europe due to long term demographics, productivity, and technology trends. \n",
    "\n",
    "Bearish USD/JPY because of shrinking rate differentials and because the Trump admin wants a weaker USD to maintain its reserve status. Plus, Japan is experiencing inflation and would be happy to strengthen the yen. \n",
    "\n",
    "Bearish stocks over 2025 because foreigners, who have ATH exposure to US assets, will want to side step currency losses that will come from a weakening dollar. Expect to see SPY 550 and potentially 500.  "
   ]
  },
  {
   "cell_type": "code",
   "execution_count": null,
   "id": "a22c4282-a9dd-48e4-9468-5dfd6307a41c",
   "metadata": {},
   "outputs": [],
   "source": []
  },
  {
   "cell_type": "code",
   "execution_count": null,
   "id": "8eed0bd7-bcbd-48b0-8eea-f72ba723d63d",
   "metadata": {},
   "outputs": [],
   "source": []
  }
 ],
 "metadata": {
  "kernelspec": {
   "display_name": "Python 3 (ipykernel)",
   "language": "python",
   "name": "python3"
  },
  "language_info": {
   "codemirror_mode": {
    "name": "ipython",
    "version": 3
   },
   "file_extension": ".py",
   "mimetype": "text/x-python",
   "name": "python",
   "nbconvert_exporter": "python",
   "pygments_lexer": "ipython3",
   "version": "3.9.6"
  }
 },
 "nbformat": 4,
 "nbformat_minor": 5
}
