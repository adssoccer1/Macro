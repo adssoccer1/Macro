{
 "cells": [
  {
   "cell_type": "markdown",
   "id": "838172b7-527d-4cd5-aada-861da98ca4f7",
   "metadata": {},
   "source": [
    "Rob - Citrone 9/20/24 [Guess Which Countries He Is Short? Rob Citrone Reveals His Global Strategies\n",
    "](https://www.youtube.com/watch?v=d9n79uvky5k)\n",
    "\n",
    "Soros and Robertson tought Citrone: If you lose any conviction in a trade, just get out. Dont cross reference, or wait for a better price, just get out. \n",
    "\n",
    "You cant be affraid to take risk if you want real returns. You cant build real long term wealth unless you take risk. In a calculated way, but putting down the pedal when the opportunity is there. \n",
    "\n",
    "Citrone made a billion by shorting the yen and long the dollar in late 90s because he though the new monetary administration would run an inflationary policy. Today Citrone see a similar opportunity in argentina. \n",
    "\n",
    "A lot of Citrones positioning is in options, to manage risk. Some of it is in forwards contracts, but uses options to manage downside risk while maintianing risk on. \n",
    "\n",
    "In addition to Argentina. India and maybe mexico are the only places Discovery is bullish. The US is over owned, its expensive and thinks there will be fairly low returns and another crash (greater than 25% in a month) in the US in the next 10 years. Thinks the next 10 years, will not be like the last in the US. \n",
    "\n",
    "The big trade at tiget was ultimtaely long the west and short asia. Citrone sees the same thing happening with China and the US. He thinks XI is only concerned with power and maintaining the communist party and will not allow for excess returns. There will be volatility around it and opportunities for going long china, but he sees this as beeing a decade where you want to short china and long US just like dollar yen in the 90s. \n",
    "\n",
    "India is second largest position for Citrone because Modi is unlocking growth there. Thinks managment is crucial to a countries success.  \n",
    "\n",
    "Cirtone actually spends a little bit more time on the short side than long side. It takes skill and you have to be careful. In anything over 3-4% short of the portfolio, you really have to have massive conviction. Will go up to 25% net short positions relative to the portfolio. \n",
    "\n",
    "Thinks the regime is changing from easy money to more normal with a lot more volatility and less liquidity. Wont be like the last 20 years where you can just be long stocks. Japan is doing QT right now. \n",
    "\n",
    "Lots of US investors ay they dont like to invest abroad especially in EM, but Citrone will look everywhere. Depending on the Country you want to find good management of the country with a good plan that are not price reasonably. \n",
    "\n",
    "Citrone thinks the next 10 years will be the decade of latin america, and Asia will really stuggle. \n"
   ]
  }
 ],
 "metadata": {
  "kernelspec": {
   "display_name": "Python 3 (ipykernel)",
   "language": "python",
   "name": "python3"
  },
  "language_info": {
   "codemirror_mode": {
    "name": "ipython",
    "version": 3
   },
   "file_extension": ".py",
   "mimetype": "text/x-python",
   "name": "python",
   "nbconvert_exporter": "python",
   "pygments_lexer": "ipython3",
   "version": "3.9.6"
  }
 },
 "nbformat": 4,
 "nbformat_minor": 5
}
