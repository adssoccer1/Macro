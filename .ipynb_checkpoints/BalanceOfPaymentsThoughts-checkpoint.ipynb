{
 "cells": [
  {
   "cell_type": "markdown",
   "id": "b4d0c024-22ee-41b3-8ff2-bab8d0b8329a",
   "metadata": {},
   "source": [
    "As destructive as they are for the populations of the countries involved, Balance of Payments (BoP) crises have created some of the greatest opportunities for macro traders in history. George Soros shorting the British pound in 1992, Stanley Druckenmiller and Scott Bessent speculating against the Deutsche Mark in 1993, Julian Robertson anticipating the Asian Financial Crisis in 1997–98, and Kyle Bass buying credit default swaps on Greek debt in 2012. These are famous examples of how sudden reversals in capital flows into a country running a financial account surplus and a current account deficit lead to sharp market moves.\n",
    "\n",
    "While many of the most dramatic BoP related trades occurred in emerging markets (EM), even gradual shifts in the BoPs of developed markets (DM) can likewise produce significant volatility in currency, bond, and equity markets. Lets explore BoP frameworks to see if patterns of the past can be applied to identify opportunities for today.\n",
    "\n",
    "At a minimum, BoPs describe the structure of a country’s capital flows and thus the nature of that country’s economy.\n",
    "\n",
    "One way to think about BoP across countries is to consider demand-center economies and producer-center economies. Demand-center economies are those with a current account deficit that depend on foreign imports to meet domestic demand, whereas producer-center economies are structured to supply exports to the rest of the world, resulting in current account surpluses. The classic examples are the modern American economy (demand center) and the Chinese economy (producer center).\n",
    "\n",
    "Another way to think about BoP flows is to consider which countries rely on foreign capital inflows to support consumption. Consider a country’s national income (GDP). We know Y = C + G + I + NX. If consumption (C + G + I) is greater than income (Y), then NX must be negative, which results in a current account deficit (NX makes up the bulk of the current account).\n",
    "\n",
    "Economists also like to say S - I = NX where S represents a country’s savings (defined as S = Y - (C + G)), and NX is the current account. This suggests the difference between a country's savings rate and investment determines their current account. They focus on the savings-investment spread because, in practice, when a BoP crisis occurs, the affected country is usually relying on a large amount of foreign investment which suddenly stops or even reverses before any other component of the country’s income does.\n",
    "\n",
    "Returning to the U.S.–China comparison, we see that the U.S. has typically run a low saving rate relative to its investment rate and has historically relied on foreign inflows to fund this excess investment. On the other hand, China has maintained a high saving rate that generally exceeds even its substantial investment levels, thereby contributing to its current account surplus.\n",
    "\n",
    "Moreover, if the U.s. runs a current account deficit and corresponding financial account surplus, while China runs a current account surplus and corresponding financial account deficit, that means China is receivng U.S. dollars for exports and needs to put these dollars somewhere. Typically, China (and other export-led economies like Japan and Germany) invest these dollars in U.S. Treasuries, funneling its excess savings into the United States leading to its financial account surplus!\n",
    "\n",
    "This dynamic heavily influences relative currency valuations, and it allows exporting countries to accumulate foreign exchange reserves that they can use to support their currencies. In practice, China wants to maintain its export position. If the U.S. dollar weakens against the yuan, China may sell Yuan to buy U.S. dollar assets, so Chinese imports maintain their price competitiveness to American consumers. \n",
    "\n",
    "However, in times of crisis, when currencies weaken too much, such as the Asian Financial Crisis of 1997–1998, \"Tiger\" economies (e.g., Taiwan, South Korea, and others) attempted to defend their pegged currencies by selling foreign assets from their reserves. Their efforts ultimately failed because as they sold foreign reserves, their reserves got even smaller which ironically reduced confidence in their currencies even further! Nonetheless, large exporting nations today still maintain foreign exchange reserves, and their allocation decisions can move markets (see China’s reported recent divestments from U.S. Treasuries in favor of gold).\n",
    "\n",
    "We can begin to see different vectors in which a BoP crisis might occur. \n",
    "\n",
    "Imagine a halt of incoming foreign capital to a country that depends on foreigners to finance domestic consumption. Suppose a political shock strikes doubt in a sovereign’s ability to meet its obligations and it is currently running a large current account deficit. Interest rates will rise as investors sell the country’s debt, while the currency simultaneously falls. A frightening combination. Plus, because the country’s persistent deficit has limited its ability to accumulate foreign reserves, it now has few reserves to fund a defense of its currency. As a result, the gap between the financial account and the current account will narrow rapidly. Imports will become proportionally more expensive to the weakness of the domestic currency, pushing the financial account surplus and the current account deficit closer to balance.\n",
    "\n",
    "Returning to our income identity,  Y = C + G + I + NX or  (Y - (C + G)) - I = NX, which represents the current account. Once the financial account surplus evaporates, the current account deficit faces pressure to adjust. If the market continues to sell off the country’s debt and rates rise, investment is crowded out first. Consumption soon follows as other asset values presumably decline and the domestic currency loses purchasing power.\n",
    "\n",
    "In this difficult scenario would it be in the soveriegn's interest to increase G? Given our S - I = NX we can assume C and I have fallen. We might think increasing government spending could stabalize the current account (and therefore the financial account), but in practive if the currency and soverein debt market has not stabalized, news of increased spending would likely exacerbate declines in those markets. \n",
    "\n",
    "So what should a country do that finds itself in the middle of a BoP unwind? Ultimately the answer depends on a combination of variables specific to that country. Currency weakness and interest rate increases need to be arrested as soon as possible. This could be done through emergency lending from a central bank or an external bank (IMF) to stabalize funding pressure. The country could enforce immediate captial controls. Or, interest rates decline to a clearing level that attracts creditors back into the market, providing a bottom. Longer term, what will be crucial for a former import heavy economy to drive a return to growth will be its ability to increase its exports.\n",
    "\n",
    "So what makes a country susceptible to BoP shifts? An excellent article by [Schoenholtz and Cecchetti linked here](https://www.moneyandbanking.com/primers/2018/6/24/sudden-stops-a-primer-on-balance-of-payments-crises) outlines classic preconditions of a sudden stop in cross-border capital flows:\n",
    "\n",
    "> - First, free cross-border movement of capital makes it easy for funds to move in either direction.  \n",
    "> - Second, when funding is short-term, foreign suppliers can reverse the flow by refusing to renew loans.  \n",
    "> - Third, reliance on foreign-currency debt means that a domestic central bank can neither provide liquidity in the case of a bank run nor reduce the burden of the debt (as it can with domestic-currency debt) through a bout of unanticipated inflation. In both cases, this raises the risk of outright default.  \n",
    "> - Fourth, credit inflows are more volatile than inflows of equity and direct investment.  \n",
    "> - Fifth, a country with a small tradables sector can support a smaller volume of external liabilities than can one that is more deeply integrated into the global economy. Put differently, when inward capital flows start to decline, economies typically must shift labor and other resources rapidly from the non-tradables sector (such as housing and government) to the tradables sector. A small export sector can make this adjustment difficult. Institutional rigidities—such as an inflexible labor market—add to this challenge.  \n",
    "> - Other factors, like a rise in global risk perceptions or risk aversion (say, reflected by the VIX), can increase required risk premia, adding to the possibility of sudden stops.  \n",
    "> - Finally, the combination of fixed exchange rates and free cross-border capital flows poses a classic vulnerability.  \n",
    "\n",
    "\n",
    "When reviewing the Asian Financial Crisis (AFC), a reliance on cross-border flows for short-term funding in USD (a currency in which none of the Tiger central banks could provide liquidity) and a fixed currency, archetyped the Tiger countries' financial account surpluses demise. Plus, while investment was high in the Tiger countries pre-AFC, most investment went into non-productivity enhancing output like real estate. Eventually markets realized this investment would not be a competitive source of future returns.\n",
    "\n",
    "The Tiger countries of the AFC had interesting roads to recovery. For one, the IMF gave emergency assistance (except to Malaysia). But then these countries also had an industrial base fluid enough to pivot the country into a current account surplus and export its way to growth again. Fortunately, a booming late 90s American economy was hungry for imports.\n",
    "\n",
    "Malaysia refused IMF liquidity and instead imposed capital controls, limiting foreign withdrawals. While controversial, this actually worked. Moreover, China was running a very similar economy to those involved in the AFC, but was already running capital controls so despite worldwide concern, foreigners couldn't withdraw their Chinese investments, allowing China to sidestep the worst of the crisis. \n",
    "\n",
    "In 2022 the U.K. had a Gilt market scare after Liz Truss announced a poorly received budget proposal with unfunded tax cuts and higher borrowing plans. The announcement triggered a sudden selloff in Gilts and the Sterling, indicating capital outflows and a hallmark sign of a start of BoP shifts. As the reader likely knows, the U.K. has a large current account deficit and relies on foreign capital to fund its financial account surplus, the majority of these flow used to support their sovereign debt. But because their central bank can operate in the Gilt debt market (they don't need to print a foreign currency), they were able to quickly backstop the selling, before a more serious panic occurred. Nonetheless this event has likely started more gradual shifts in flows for large sovereign debtors... [See this tweet by Whitney Baker on how Gilt yeilds and Sterling continues a gradual decline](https://x.com/TotemMacro/status/1877381011866112113).\n",
    "\n",
    "In 2025 one wonders if countries with major sovereign debt obligations can suffer acute BoP pressures beyond brief moments of weakness like the Gilt market in 2022. How can they if their central bank can monetize their debt? Japan has been buying its JGBs for decades and now holds 40% of the outstanding float with seemingly little consequence. \n",
    "\n",
    "A key indicator will be if a country's short term obligations collide with a window of limited liquidity. Then a window of weakness in asset prices will drive volatility but this will likely only last for a moment, before monetary powers intervene again."
   ]
  }
 ],
 "metadata": {
  "kernelspec": {
   "display_name": "Python 3 (ipykernel)",
   "language": "python",
   "name": "python3"
  },
  "language_info": {
   "codemirror_mode": {
    "name": "ipython",
    "version": 3
   },
   "file_extension": ".py",
   "mimetype": "text/x-python",
   "name": "python",
   "nbconvert_exporter": "python",
   "pygments_lexer": "ipython3",
   "version": "3.9.6"
  }
 },
 "nbformat": 4,
 "nbformat_minor": 5
}
