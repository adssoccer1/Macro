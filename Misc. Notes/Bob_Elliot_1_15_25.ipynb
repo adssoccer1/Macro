{
 "cells": [
  {
   "cell_type": "markdown",
   "id": "4aeff7c8-898e-4254-b21e-d614764a0bf2",
   "metadata": {},
   "source": [
    "Markets are pricing in continued strength \n",
    "- Consensus estimates of Real GDP growth >2% \n",
    "- Equity markets are pricing in earnings growth >10% YOY. Even with these forward earnings, equites are at ATH fwd p/e's.\n",
    "- Less than one cut priced into 2025\n",
    "- High yeild spreads are at all time lows.\n",
    "- Long term rates are elevated and 10 year term premium is rising.\n",
    "\n",
    "While some people think the rise in the long end may be due to fiscal and inflation concerns, but you wouldnt see stocks and the dollar going up as well, if fiscally concerned bond vigilanties were driving down the long end. Instead, this is a pro growth move. \n",
    "\n",
    "This pro growth move is happening when the most cyclical parts of the economy are weakening:\n",
    "- The manufacutring sector\n",
    "- Housing is weakening, which had held in there due to a backlog of housing starts. However, housing units under construction is deterioirating as rapidly as weve seen in several decades.\n",
    "- Construction spending has been holding up, but is beggining to rollover\n",
    "  - commercial\n",
    "  - manufacturing, funded with the chips act.\n",
    "  - fixed investment: non residential structures.\n",
    "\n",
    "U.S. growth is just U.S. household consumption at this point. This is driven by the incrom driven expansion. So what happens to incomes will be a critical driver to what effects household consumption.\n",
    "\n",
    "Employment measures have weakened. \n",
    "\n",
    "So in order to get the 2.5% expected GDP in 2025, households need to contiue to keep earning high income growth and spending that income. Assets need to continue to rise enough for households to maintain their current savings rate (spending rate. Households will spend more as their asset prices increase, but household spending will stop if asset prices fall. And strong asset performance is really reliant on long end rates rising too much. \n",
    "\n",
    "In some ways, the strength of the economy created the rise in long end yeilds which created the tightening in financial conditions. \n",
    "\n",
    "A lot of folks will point to the positive change in optimism from NFIB Small Business Optimism, but optimism is not the same thing as economic conditions. This optimism is largely a factor of political outcomes. \n",
    "\n",
    "Rather than optimism, what will flucuate future economic outcomes is policy. There is still lots of uncertainty of the policy environment at this time. \n",
    "\n",
    "\n",
    "\n",
    "\n",
    "\n"
   ]
  },
  {
   "cell_type": "code",
   "execution_count": null,
   "id": "48423dca-aaca-447d-9da7-1ab32f49de94",
   "metadata": {},
   "outputs": [],
   "source": []
  }
 ],
 "metadata": {
  "kernelspec": {
   "display_name": "Python 3 (ipykernel)",
   "language": "python",
   "name": "python3"
  },
  "language_info": {
   "codemirror_mode": {
    "name": "ipython",
    "version": 3
   },
   "file_extension": ".py",
   "mimetype": "text/x-python",
   "name": "python",
   "nbconvert_exporter": "python",
   "pygments_lexer": "ipython3",
   "version": "3.9.6"
  }
 },
 "nbformat": 4,
 "nbformat_minor": 5
}
