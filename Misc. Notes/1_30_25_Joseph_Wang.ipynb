{
 "cells": [
  {
   "cell_type": "markdown",
   "id": "10170298-02fc-4d21-a2b1-d95ec33b6bc2",
   "metadata": {},
   "source": [
    "(Tariffs To Reshape Global Economy & Tank Markets, Argues Former Fed Trader Joseph Wang)[https://www.youtube.com/watch?v=X38HkrUD_js]\n",
    "\n",
    "The market underestimates Trumps tarrifs. The market thinks this is bluster. Trump love the stock market, but he did put on tarrifs on china in his first term. Bessent and his economic team also like tarrifs. They want to reshape the global trade order and . \n",
    "\n",
    "China has a trade surplus of 1 trillion dollars recently! There is a state sponsord policy to manage currency to ensure that they remain with a massive surplus and keep the jobs in China. \n",
    "\n",
    "Trump wants to lower dependence on income tax and replace it with tarrifs. \n",
    "\n",
    "Trump does actually uses tarrifs for negotiation. But economic tarrifs are going to come later likely in april.\n",
    "\n",
    "Are tarrifs inflationary? In his first term, people believe they actually were not inflationary for the consumer. Prices did go up but the companies ate the costs, not the consumers.\n",
    "\n",
    "But tarrifs could strengthen the dollar which means we can cheapen our imports through the currency layer. Plus, companies will likely eat any increases in costs, likely because of substitution effects. Tarrifs are also a one time increase in the price leve, so its likely the Fed will look through this as a transitory increase in the price level. \n",
    "\n",
    "Growth concerns from tarrifs are likley going to be more significant than inflation. \n",
    "\n",
    "Wang thinks the market is way overpriced and especially large international companies like apple that have a lot of policy risk right now. \n",
    "\n",
    "But the market can be really slow to react to this kind of things. See Covid and see Deepseek and Nvidia. So perhaps one day the market will wake up to these tarrif risks. \n",
    "\n",
    "Who is going to buy the bonds? If we have tarrif bonds will be bough in a risk off trend. Deficits will remian large, but Bessent understands we can create demand for bonds in many different ways - like reducing regulations. Banks can be more inclined to buy treasuries. But in the near term, the risk off should increase bonds. \n",
    "\n",
    "Foreign central banks have not been buying treasuries for a long time now. More foreign private sector buyers will step in when we cut rates. \n",
    "\n",
    "Foriegn exposure to US equities is enormous, mainly because of the AI narrative. But the Trump desire to weaken the US dollar to boost exports, this could potentially crash the US Dollar asset bubble, because foreigner may sell their USD exposure before Trump can weaken the dollar. \n",
    "\n",
    "\n"
   ]
  }
 ],
 "metadata": {
  "kernelspec": {
   "display_name": "Python 3 (ipykernel)",
   "language": "python",
   "name": "python3"
  },
  "language_info": {
   "codemirror_mode": {
    "name": "ipython",
    "version": 3
   },
   "file_extension": ".py",
   "mimetype": "text/x-python",
   "name": "python",
   "nbconvert_exporter": "python",
   "pygments_lexer": "ipython3",
   "version": "3.9.6"
  }
 },
 "nbformat": 4,
 "nbformat_minor": 5
}
