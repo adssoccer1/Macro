{
 "cells": [
  {
   "cell_type": "markdown",
   "id": "da2ec24a-2278-434c-8a8a-61b91bde43e6",
   "metadata": {},
   "source": [
    "[Liquidity Crunch Threatens 'Everything Bubble' with Michael Howell\n",
    "](https://www.youtube.com/watch?v=roCkJvtSAb4&list=WL&index=5&t=4s)\n",
    "\n",
    "Liquidity outlook is currently fair to middling. There doesnt appear to be momentum for liquidity unlike at the beginning of 2024. In 2024 Yellen squid the Treasury funding towards to front end of the curve to support the election year. This year we have uncertainty about the new Treasury that may normalize issuance. \n",
    "\n",
    "There was about 6 trillion dollars of \"hidden\" stimulus last year, but now this hidden stimulus is fading in 2025. \n",
    "\n",
    "Plus in China, they are struggling under their debt burden. The only way for them to get out of their debt burden is to print in an inflationary manner. The strong dollar against the debt is china is causing China to withdraw liquidity. \n",
    "\n",
    "What drove \"Not QE QE\" and \"Not YCC YCC\"?\n",
    "- The Fed is doing QT because they are shrinking their balance sheet, but not all parts of the balance sheet are equal in terms of creating liquidity. A lot of the liquidity creating parts are actually expanding. Things like the RRP winding down quite dramatically, fluctuations in the TGA, Bank Term Funding program.\n",
    "- Changing the average issuance duration. Yellen skewed issuance into the front end of the curve. Funding on the long end soaks up liquidity and crowds out investment.The banks tend to eat bills up because banks have lots of deposits built up due to the large fiscal spending, and they need an asset on the other side of their balance sheet that duration matches those deposits. So treasury bills are perfect for them.\n",
    "\n",
    "Agency mortgages are risk free and should match UST yeilds, but we see because of the \"YCC\" the UST yeilds are artificially suppressed. \n",
    "\n",
    "This also means that break-even inflation as measure by TIPs is distorted by about 100bps. So in reality \n",
    "\n",
    "On a short-term basis, dollar strenght and increasing term premia on USTs are not bullish liquidity. \n",
    "\n",
    "Debt-GDP is meaningless, what is more relevant is Debt-liquidity. \n",
    "\n",
    "The short term hurdles Michale sees in 2025 is the debt maturity wall and Bessent's funding plans. \n"
   ]
  }
 ],
 "metadata": {
  "kernelspec": {
   "display_name": "Python 3 (ipykernel)",
   "language": "python",
   "name": "python3"
  },
  "language_info": {
   "codemirror_mode": {
    "name": "ipython",
    "version": 3
   },
   "file_extension": ".py",
   "mimetype": "text/x-python",
   "name": "python",
   "nbconvert_exporter": "python",
   "pygments_lexer": "ipython3",
   "version": "3.9.6"
  }
 },
 "nbformat": 4,
 "nbformat_minor": 5
}
