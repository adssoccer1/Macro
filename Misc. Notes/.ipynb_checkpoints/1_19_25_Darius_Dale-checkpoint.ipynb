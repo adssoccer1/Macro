{
 "cells": [
  {
   "cell_type": "markdown",
   "id": "6af99afb-97dc-40bd-95ad-5a04e882b6ef",
   "metadata": {},
   "source": [
    "\n",
    "\n",
    "There is extreme bullish positioning, but DD remains cautiously bullish. \n",
    "\n",
    "We know 1H25 there will be TGA spenddown, but after that Bessent will have to replenish the TGA. Bessent my shift the financing to duration.\n",
    "\n",
    "The fed has moderated their previous asymmetrically dovish reaction function. \n",
    "\n",
    "The size sequence and scope of Trumps policies are still very uncertain. Deportations and tarrifs are negative shocks. \n",
    "\n",
    "Yellens bill issuance was instrumental in getting 2 trillion + out of the Fed's RRP, causing an espansion in the private repo markets. Bessent was critical of this so its likely he doesnt follow this path. The markets have perhaps sniffed this out considering the rise in term premia. \n",
    "\n",
    "Michael Howell is concerned about the debt maturity wall in 2025 and particulalry the corporate debt maturity wall. \n",
    "\n",
    "Continued dollar strength could lead to a global refinancing airpocket in 2025. \n",
    "\n",
    "42 Macro's Global Liquidity Proxy is the aggregated sum of the:\n",
    "- Central Bank balance sheets of the worlds 12 largest economies.\n",
    "- The aggregated sum of their broad money supply.\n",
    "- The aggregated sum of their FX reserves minus gold.\n",
    "\n",
    "If liquidity does not increase in 2025 then there will be significant concerns in equity markets because of the widening spread between liquidity and World total non-financial sector debt. \n",
    "\n",
    "We also know what correlates with liquidity (leading indicators) in the short term: market caps, interest rates, global growth, inflation, and employment, ect. \n",
    "\n",
    "So potentially you could have decreasing liquidity, among a backdrop of TGA needing to get refilled, Bessent being hawkish with issuance, and global debt refinancing needs (Debt maturity wall). \n",
    "\n",
    "The fiscal deficit is forecasted to continue to expand in the long run, primarily because of demographics and the corresponding entitlement spending. "
   ]
  }
 ],
 "metadata": {
  "kernelspec": {
   "display_name": "Python 3 (ipykernel)",
   "language": "python",
   "name": "python3"
  },
  "language_info": {
   "codemirror_mode": {
    "name": "ipython",
    "version": 3
   },
   "file_extension": ".py",
   "mimetype": "text/x-python",
   "name": "python",
   "nbconvert_exporter": "python",
   "pygments_lexer": "ipython3",
   "version": "3.9.6"
  }
 },
 "nbformat": 4,
 "nbformat_minor": 5
}
