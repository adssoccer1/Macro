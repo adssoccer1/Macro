{
 "cells": [
  {
   "cell_type": "markdown",
   "id": "653a2718-f7a9-43ea-835e-1c1a6f1d29a8",
   "metadata": {},
   "source": [
    "[Fiscal dominance & its implications, in simple terms](https://www.youtube.com/watch?v=DM0ADNq70Y0&list=WL&index=3)\n",
    "\n",
    "Fiscal Dominance is when the government debt load is so large it overshadows monetary policies/actions. \n",
    "\n",
    "-When the Fed raises rates, it widens the Federal deficit because it increases interest expense. A widening Federal deficit is stimulative. \n",
    "-When the Fed lowers rates to make interest expense more affordable, that is also stimulative because it stimulates private sector balance sheets. \n",
    "\n",
    "So what are the ways out of fiscal dominance?\n",
    "- Allow rates to rise, but cut fiscal spending (cut discretionary spending (entitlements)).\n",
    "- Allow for negative real interest rates (let inflation run hot).\n",
    "- Productivity miracle (boost GDP and increase the denominator in debt/GDP).\n",
    "\n",
    "How can the new administration weaken the dollar and cut rates?\n",
    "- Various regulation changes like changing bank balance sheet capacity (exempt treasuries from SLR calculations for the banks).\n",
    "- Yield curve control.\n",
    "\n",
    "- Dollar up means global growth slows, means U.S. deficits go up, means UST issuance goes up, while global private sector balance sheet capacity shrinks to finance these deficits. "
   ]
  },
  {
   "cell_type": "code",
   "execution_count": null,
   "id": "c65d8ae0-50ee-4af4-a638-73ceee9eb8a9",
   "metadata": {},
   "outputs": [],
   "source": []
  }
 ],
 "metadata": {
  "kernelspec": {
   "display_name": "Python 3 (ipykernel)",
   "language": "python",
   "name": "python3"
  },
  "language_info": {
   "codemirror_mode": {
    "name": "ipython",
    "version": 3
   },
   "file_extension": ".py",
   "mimetype": "text/x-python",
   "name": "python",
   "nbconvert_exporter": "python",
   "pygments_lexer": "ipython3",
   "version": "3.9.6"
  }
 },
 "nbformat": 4,
 "nbformat_minor": 5
}
